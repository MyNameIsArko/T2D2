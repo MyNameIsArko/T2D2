{
 "cells": [
  {
   "cell_type": "code",
   "execution_count": 1,
   "id": "initial_id",
   "metadata": {
    "ExecuteTime": {
     "end_time": "2024-05-14T09:46:31.194271Z",
     "start_time": "2024-05-14T09:46:28.404470Z"
    },
    "collapsed": true
   },
   "outputs": [],
   "source": [
    "import torch\n",
    "from torch import nn\n",
    "import gymnasium as gym\n",
    "from collections import namedtuple, deque\n",
    "from itertools import count\n",
    "import random\n",
    "import math\n",
    "import os\n",
    "from tqdm.notebook import tqdm\n",
    "import cv2\n",
    "import numpy as np\n",
    "# from torch.utils.tensorboard import SummaryWriter"
   ]
  },
  {
   "cell_type": "code",
   "execution_count": 2,
   "id": "9576e2fc7796f534",
   "metadata": {
    "ExecuteTime": {
     "end_time": "2024-05-14T09:46:31.272062Z",
     "start_time": "2024-05-14T09:46:31.205977Z"
    }
   },
   "outputs": [],
   "source": [
    "device = torch.device('cuda' if torch.cuda.is_available() else 'cpu')\n",
    "# device = torch.device('cpu')\n",
    "\n",
    "BATCH_SIZE = 128\n",
    "GAMMA = 0.99\n",
    "EPS_START = 0.9\n",
    "EPS_END = 0.01\n",
    "EPS_DECAY = 10000\n",
    "TAU = 0.005\n",
    "LR = 1e-4\n",
    "NUM_EPISODES = 10000\n",
    "SAVE_FREQ = 100\n",
    "MAX_EPISODE_STEPS = 10000\n",
    "\n",
    "game_name = 'MsPacman-v5'\n",
    "\n",
    "steps_done = 0"
   ]
  },
  {
   "cell_type": "code",
   "execution_count": 3,
   "id": "6fec13d8",
   "metadata": {},
   "outputs": [],
   "source": [
    "class NoopResetEnv(gym.Wrapper):\n",
    "    def __init__(self, env, noop_max=30):\n",
    "        \"\"\"start the game with no-op actions to provide random starting positions\n",
    "        No-op is assumed to be action 0.\n",
    "        \"\"\"\n",
    "        gym.Wrapper.__init__(self, env)\n",
    "        self.noop_max = noop_max\n",
    "        self.override_num_noops = None\n",
    "        self.noop_action = 0\n",
    "        assert env.unwrapped.get_action_meanings()[0] == 'NOOP'\n",
    "\n",
    "    def reset(self, **kwargs):\n",
    "        \"\"\" Do no-op action for a number of steps in [1, noop_max].\"\"\"\n",
    "        self.env.reset(**kwargs)\n",
    "        if self.override_num_noops is not None:\n",
    "            noops = self.override_num_noops\n",
    "        else:\n",
    "            noops = np.random.randint(1, self.noop_max + 1) #pylint: disable=E1101\n",
    "        assert noops > 0\n",
    "        obs = None\n",
    "        for _ in range(noops):\n",
    "            obs, _, terminated, truncated, _ = self.env.step(self.noop_action)\n",
    "            if terminated or truncated:\n",
    "                obs = self.env.reset(**kwargs)\n",
    "        return obs, {}\n",
    "\n",
    "    def step(self, action):\n",
    "        return self.env.step(action)\n",
    "\n",
    "\n",
    "\n",
    "class WarpFrame(gym.ObservationWrapper):\n",
    "    def __init__(self, env, width=84, height=84):\n",
    "        \"\"\"\n",
    "        Warp frames to 84x84 as done in the Nature paper and later work.\n",
    "        \"\"\"\n",
    "        super().__init__(env)\n",
    "        self._width = width\n",
    "        self._height = height\n",
    "\n",
    "        self.observation_space = gym.spaces.Box(\n",
    "            low=0,\n",
    "            high=255,\n",
    "            shape=(1, self._height, self._width),\n",
    "            dtype=np.uint8,\n",
    "        )\n",
    "\n",
    "    def observation(self, obs):\n",
    "\n",
    "        obs = cv2.resize(\n",
    "            obs, (self._width, self._height), interpolation=cv2.INTER_AREA\n",
    "        )\n",
    "\n",
    "        obs = np.expand_dims(obs, 0)\n",
    "\n",
    "        return obs\n",
    "\n",
    "\n",
    "def create_env(env_name=game_name, noop_start=True, render=False):\n",
    "\n",
    "    env = gym.make(f'ALE/{env_name}', obs_type='grayscale', frameskip=4, repeat_action_probability=0, full_action_space=False, render_mode='human' if render else 'rgb_array')\n",
    "\n",
    "    env = WarpFrame(env)\n",
    "    if noop_start:\n",
    "        env = NoopResetEnv(env)\n",
    "\n",
    "    return env"
   ]
  },
  {
   "cell_type": "code",
   "execution_count": 4,
   "id": "ad1889ad",
   "metadata": {},
   "outputs": [
    {
     "name": "stderr",
     "output_type": "stream",
     "text": [
      "A.L.E: Arcade Learning Environment (version 0.8.1+53f58b7)\n",
      "[Powered by Stella]\n"
     ]
    }
   ],
   "source": [
    "env = create_env()\n",
    "n_observations = env.observation_space.shape[0]\n",
    "n_actions = env.action_space.n\n",
    "env.close()"
   ]
  },
  {
   "cell_type": "code",
   "execution_count": 5,
   "id": "3d92553642b4f78f",
   "metadata": {
    "ExecuteTime": {
     "end_time": "2024-05-14T09:46:31.199679Z",
     "start_time": "2024-05-14T09:46:31.196028Z"
    }
   },
   "outputs": [],
   "source": [
    "Transition = namedtuple('Transition', ('state', 'action', 'next_state', 'reward'))\n",
    "\n",
    "class ReplayMemory:\n",
    "    def __init__(self, capacity):\n",
    "        self.memory = deque([], maxlen=capacity)\n",
    "        \n",
    "    def push(self, *args):\n",
    "        self.memory.append(Transition(*args))\n",
    "    \n",
    "    def sample(self, batch_size):\n",
    "        return random.sample(self.memory, batch_size)\n",
    "    \n",
    "    def __len__(self):\n",
    "        return len(self.memory)"
   ]
  },
  {
   "cell_type": "code",
   "execution_count": 6,
   "id": "aec4addf644e7b99",
   "metadata": {
    "ExecuteTime": {
     "end_time": "2024-05-14T09:46:31.204482Z",
     "start_time": "2024-05-14T09:46:31.200932Z"
    }
   },
   "outputs": [],
   "source": [
    "class DQN(nn.Module):\n",
    "    def __init__(self, n_observations, n_actions):\n",
    "        super().__init__()\n",
    "\n",
    "        self.feature = nn.Sequential(\n",
    "            nn.Conv2d(1, 32, 8, 4),\n",
    "            nn.ReLU(True),\n",
    "            nn.Conv2d(32, 64, 4, 2),\n",
    "            nn.ReLU(True),\n",
    "            nn.Conv2d(64, 64, 3, 1),\n",
    "            nn.ReLU(True),\n",
    "            nn.Flatten(),\n",
    "            nn.Linear(3136, 512),\n",
    "            nn.ReLU(True),\n",
    "        )\n",
    "\n",
    "        self.net = nn.Sequential(\n",
    "            nn.Linear(512, 128),\n",
    "            nn.ReLU(),\n",
    "            nn.Linear(128, 128),\n",
    "            nn.ReLU(),\n",
    "            nn.Linear(128, n_actions)\n",
    "        )\n",
    "    \n",
    "    def forward(self, x):\n",
    "        features = self.feature(x)\n",
    "        return self.net(features)"
   ]
  },
  {
   "cell_type": "code",
   "execution_count": 7,
   "id": "242d1cf3a92888c5",
   "metadata": {
    "ExecuteTime": {
     "end_time": "2024-05-14T09:46:32.326414Z",
     "start_time": "2024-05-14T09:46:31.273865Z"
    }
   },
   "outputs": [],
   "source": [
    "policy_net = DQN(n_observations, n_actions).to(device)\n",
    "target_net = DQN(n_observations, n_actions).to(device)\n",
    "target_net.load_state_dict(policy_net.state_dict())\n",
    "\n",
    "optimizer = torch.optim.Adam(policy_net.parameters(), lr=LR)\n",
    "memory = ReplayMemory(100000)\n",
    "# writer = SummaryWriter(log_dir='logs/dqn')"
   ]
  },
  {
   "cell_type": "code",
   "execution_count": 8,
   "id": "fd1f40d39a7f0b9b",
   "metadata": {
    "ExecuteTime": {
     "end_time": "2024-05-14T09:46:32.337369Z",
     "start_time": "2024-05-14T09:46:32.327926Z"
    }
   },
   "outputs": [],
   "source": [
    "def select_action(state):\n",
    "    global steps_done\n",
    "    sample = random.random()\n",
    "    eps_threshold = EPS_END + (EPS_START - EPS_END) * \\\n",
    "        math.exp(-1. * steps_done / EPS_DECAY)\n",
    "    steps_done += 1\n",
    "    if sample > eps_threshold:\n",
    "        with torch.no_grad():\n",
    "            return policy_net(state).max(1).indices.view(1, 1)\n",
    "    else:\n",
    "        return torch.tensor([[env.action_space.sample()]], device=device, dtype=torch.long)"
   ]
  },
  {
   "cell_type": "code",
   "execution_count": 9,
   "id": "281ad5b1ab28611d",
   "metadata": {
    "ExecuteTime": {
     "end_time": "2024-05-14T09:46:32.343750Z",
     "start_time": "2024-05-14T09:46:32.338854Z"
    }
   },
   "outputs": [],
   "source": [
    "def optimize_model():\n",
    "    if len(memory) < BATCH_SIZE:\n",
    "        return\n",
    "    transitions = memory.sample(BATCH_SIZE)\n",
    "    batch = Transition(*zip(*transitions))\n",
    "    \n",
    "    non_final_mask = torch.tensor(tuple(map(lambda s: s is not None, batch.next_state)), device=device, dtype=torch.bool)\n",
    "    non_final_next_states = torch.cat([s for s in batch.next_state if s is not None])\n",
    "    \n",
    "    state_batch = torch.cat(batch.state)\n",
    "    action_batch = torch.cat(batch.action)\n",
    "    reward_batch = torch.cat(batch.reward)\n",
    "    \n",
    "    state_action_values = policy_net(state_batch).gather(1, action_batch)\n",
    "    \n",
    "    next_state_values = torch.zeros(BATCH_SIZE, device=device)\n",
    "    with torch.no_grad():\n",
    "        next_state_values[non_final_mask] = target_net(non_final_next_states).max(1)[0]\n",
    "        \n",
    "    expected_state_action_values = (next_state_values * GAMMA) + reward_batch\n",
    "    \n",
    "    criterion = nn.SmoothL1Loss()\n",
    "    loss = criterion(state_action_values, expected_state_action_values.unsqueeze(1))\n",
    "    \n",
    "    optimizer.zero_grad()\n",
    "    loss.backward()\n",
    "    nn.utils.clip_grad_value_(policy_net.parameters(), 100)\n",
    "    optimizer.step()\n",
    "\n",
    "    return loss.item()"
   ]
  },
  {
   "cell_type": "code",
   "execution_count": 10,
   "id": "e534b14b",
   "metadata": {},
   "outputs": [
    {
     "ename": "AssertionError",
     "evalue": "",
     "output_type": "error",
     "traceback": [
      "\u001b[0;31m---------------------------------------------------------------------------\u001b[0m",
      "\u001b[0;31mAssertionError\u001b[0m                            Traceback (most recent call last)",
      "Cell \u001b[0;32mIn[10], line 1\u001b[0m\n\u001b[0;32m----> 1\u001b[0m \u001b[38;5;28;01massert\u001b[39;00m \u001b[38;5;28;01mFalse\u001b[39;00m\n",
      "\u001b[0;31mAssertionError\u001b[0m: "
     ]
    }
   ],
   "source": [
    "assert False"
   ]
  },
  {
   "cell_type": "code",
   "execution_count": 11,
   "id": "9f877e7a2cad004",
   "metadata": {},
   "outputs": [
    {
     "data": {
      "application/vnd.jupyter.widget-view+json": {
       "model_id": "7f6a49217640415fb1c1702ccc57ae38",
       "version_major": 2,
       "version_minor": 0
      },
      "text/plain": [
       "  0%|          | 0/10000 [00:00<?, ?it/s]"
      ]
     },
     "metadata": {},
     "output_type": "display_data"
    }
   ],
   "source": [
    "try:\n",
    "    for i_episode in tqdm(range(NUM_EPISODES)):\n",
    "        env = create_env()\n",
    "        state, info = env.reset()\n",
    "        state = torch.tensor(state, device=device, dtype=torch.float).unsqueeze(0)\n",
    "        \n",
    "        sum_reward = 0\n",
    "\n",
    "        for t in count():\n",
    "            action = select_action(state)\n",
    "            observation, reward, terminated, truncated, _ = env.step(action.item())\n",
    "            sum_reward += reward\n",
    "            reward = torch.tensor(reward, device=device).unsqueeze(0)\n",
    "            done = terminated or truncated\n",
    "            \n",
    "            if terminated:\n",
    "                next_state = None\n",
    "            else:\n",
    "                next_state = torch.tensor(observation, device=device, dtype=torch.float).unsqueeze(0)\n",
    "            \n",
    "            memory.push(state, action, next_state, reward)            \n",
    "            state = next_state\n",
    "            \n",
    "            loss = optimize_model()\n",
    "            \n",
    "            target_net_state_dict = target_net.state_dict()\n",
    "            policy_net_state_dict = policy_net.state_dict()\n",
    "            for key in target_net_state_dict:\n",
    "                target_net_state_dict[key] = TAU * policy_net_state_dict[key] + (1 - TAU) * target_net_state_dict[key]\n",
    "            target_net.load_state_dict(target_net_state_dict)\n",
    "            \n",
    "            if i_episode % SAVE_FREQ == 0:\n",
    "                os.makedirs(f'models/dqn/{game_name}', exist_ok=True)\n",
    "                torch.save(policy_net.state_dict(), f'models/dqn/{game_name}/{i_episode}.pt')\n",
    "\n",
    "            if done or t >= MAX_EPISODE_STEPS:\n",
    "                os.makedirs(f'logs/dqn/{game_name}', exist_ok=True)\n",
    "                with open(f'logs/dqn/{game_name}/episode_return.txt', 'a') as f:\n",
    "                    f.write(f'{sum_reward} {i_episode}\\n')\n",
    "\n",
    "                if loss:\n",
    "                    with open(f'logs/dqn/{game_name}/training_loss.txt', 'a') as f:\n",
    "                        f.write(f'{loss} {i_episode}\\n')\n",
    "                break\n",
    "        env.close()\n",
    "except KeyboardInterrupt:\n",
    "    pass"
   ]
  },
  {
   "cell_type": "markdown",
   "id": "c25d2f69",
   "metadata": {},
   "source": [
    "### 4 min training"
   ]
  },
  {
   "cell_type": "code",
   "execution_count": 12,
   "id": "8064db2c",
   "metadata": {},
   "outputs": [
    {
     "name": "stdout",
     "output_type": "stream",
     "text": [
      "700.0\n"
     ]
    },
    {
     "ename": "",
     "evalue": "",
     "output_type": "error",
     "traceback": [
      "\u001b[1;31mThe Kernel crashed while executing code in the current cell or a previous cell. \n",
      "\u001b[1;31mPlease review the code in the cell(s) to identify a possible cause of the failure. \n",
      "\u001b[1;31mClick <a href='https://aka.ms/vscodeJupyterKernelCrash'>here</a> for more info. \n",
      "\u001b[1;31mView Jupyter <a href='command:jupyter.viewOutput'>log</a> for further details."
     ]
    }
   ],
   "source": [
    "env = create_env(render=True)\n",
    "obs, _ = env.reset()\n",
    "state = torch.tensor(obs, device=device, dtype=torch.float).unsqueeze(0)\n",
    "done = False\n",
    "total_reward = 0\n",
    "for t in count():\n",
    "    with torch.no_grad():\n",
    "        action = select_action(state)\n",
    "    obs, reward, terminated, truncated, _, = env.step(action.item())\n",
    "    state = torch.tensor(obs, device=device, dtype=torch.float).unsqueeze(0)\n",
    "    done = terminated or truncated\n",
    "    if done:\n",
    "        break\n",
    "    total_reward += reward\n",
    "env.close()\n",
    "print(total_reward)"
   ]
  },
  {
   "cell_type": "code",
   "execution_count": null,
   "id": "6b74fd82",
   "metadata": {},
   "outputs": [],
   "source": [
    "# torch.save({\n",
    "#     'policy_net_state_dict': policy_net.state_dict(),\n",
    "#     'target_net_state_dict': target_net.state_dict(),\n",
    "#     'optimizer_state_dict': optimizer.state_dict()\n",
    "# }, 'dqn_checkpoint.tar')"
   ]
  }
 ],
 "metadata": {
  "kernelspec": {
   "display_name": "Python 3",
   "language": "python",
   "name": "python3"
  },
  "language_info": {
   "codemirror_mode": {
    "name": "ipython",
    "version": 3
   },
   "file_extension": ".py",
   "mimetype": "text/x-python",
   "name": "python",
   "nbconvert_exporter": "python",
   "pygments_lexer": "ipython3",
   "version": "3.11.9"
  }
 },
 "nbformat": 4,
 "nbformat_minor": 5
}
