{
 "cells": [
  {
   "cell_type": "code",
   "execution_count": 1,
   "id": "initial_id",
   "metadata": {
    "ExecuteTime": {
     "end_time": "2024-05-14T09:46:31.194271Z",
     "start_time": "2024-05-14T09:46:28.404470Z"
    },
    "collapsed": true
   },
   "outputs": [],
   "source": [
    "import torch\n",
    "from torch import nn\n",
    "import gymnasium as gym\n",
    "from collections import namedtuple, deque\n",
    "from itertools import count\n",
    "import random\n",
    "import math\n",
    "import os\n",
    "from tqdm.notebook import tqdm\n",
    "# from torch.utils.tensorboard import SummaryWriter"
   ]
  },
  {
   "cell_type": "code",
   "execution_count": 2,
   "id": "3d92553642b4f78f",
   "metadata": {
    "ExecuteTime": {
     "end_time": "2024-05-14T09:46:31.199679Z",
     "start_time": "2024-05-14T09:46:31.196028Z"
    }
   },
   "outputs": [],
   "source": [
    "Transition = namedtuple('Transition', ('state', 'action', 'next_state', 'reward'))\n",
    "\n",
    "class ReplayMemory:\n",
    "    def __init__(self, capacity):\n",
    "        self.memory = deque([], maxlen=capacity)\n",
    "        \n",
    "    def push(self, *args):\n",
    "        self.memory.append(Transition(*args))\n",
    "    \n",
    "    def sample(self, batch_size):\n",
    "        return random.sample(self.memory, batch_size)\n",
    "    \n",
    "    def __len__(self):\n",
    "        return len(self.memory)"
   ]
  },
  {
   "cell_type": "code",
   "execution_count": 3,
   "id": "aec4addf644e7b99",
   "metadata": {
    "ExecuteTime": {
     "end_time": "2024-05-14T09:46:31.204482Z",
     "start_time": "2024-05-14T09:46:31.200932Z"
    }
   },
   "outputs": [],
   "source": [
    "class DQN(nn.Module):\n",
    "    def __init__(self, n_observations, n_actions):\n",
    "        super().__init__()\n",
    "        self.net = nn.Sequential(\n",
    "            nn.Linear(n_observations, 128),\n",
    "            nn.ReLU(),\n",
    "            nn.Linear(128, 128),\n",
    "            nn.ReLU(),\n",
    "            nn.Linear(128, n_actions)\n",
    "        )\n",
    "        \n",
    "        # self.recurrent = nn.LSTM(128+n_actions+1, 128, 1)\n",
    "    \n",
    "    def forward(self, x):\n",
    "        return self.net(x)"
   ]
  },
  {
   "cell_type": "code",
   "execution_count": 4,
   "id": "9576e2fc7796f534",
   "metadata": {
    "ExecuteTime": {
     "end_time": "2024-05-14T09:46:31.272062Z",
     "start_time": "2024-05-14T09:46:31.205977Z"
    }
   },
   "outputs": [],
   "source": [
    "# device = torch.device('cuda' if torch.cuda.is_available() else 'cpu')\n",
    "device = torch.device('cpu')\n",
    "\n",
    "BATCH_SIZE = 128\n",
    "GAMMA = 0.99\n",
    "EPS_START = 0.9\n",
    "EPS_END = 0.05\n",
    "EPS_DECAY = 1000\n",
    "TAU = 0.005\n",
    "LR = 1e-4\n",
    "NUM_EPISODES = 600\n",
    "SAVE_FREQ = 50\n",
    "\n",
    "game_name = 'CartPole-v1'\n",
    "env = gym.make(game_name)\n",
    "n_observations = env.observation_space.shape[0]\n",
    "n_actions = env.action_space.n\n",
    "\n",
    "steps_done = 0"
   ]
  },
  {
   "cell_type": "code",
   "execution_count": 5,
   "id": "242d1cf3a92888c5",
   "metadata": {
    "ExecuteTime": {
     "end_time": "2024-05-14T09:46:32.326414Z",
     "start_time": "2024-05-14T09:46:31.273865Z"
    }
   },
   "outputs": [],
   "source": [
    "policy_net = DQN(n_observations, n_actions).to(device)\n",
    "target_net = DQN(n_observations, n_actions).to(device)\n",
    "target_net.load_state_dict(policy_net.state_dict())\n",
    "\n",
    "optimizer = torch.optim.Adam(policy_net.parameters(), lr=LR)\n",
    "memory = ReplayMemory(10000)\n",
    "# writer = SummaryWriter(log_dir='logs/dqn')"
   ]
  },
  {
   "cell_type": "code",
   "execution_count": 6,
   "id": "fd1f40d39a7f0b9b",
   "metadata": {
    "ExecuteTime": {
     "end_time": "2024-05-14T09:46:32.337369Z",
     "start_time": "2024-05-14T09:46:32.327926Z"
    }
   },
   "outputs": [],
   "source": [
    "def select_action(state):\n",
    "    global steps_done\n",
    "    sample = random.random()\n",
    "    eps_threshold = EPS_END + (EPS_START - EPS_END) * \\\n",
    "        math.exp(-1. * steps_done / EPS_DECAY)\n",
    "    steps_done += 1\n",
    "    if sample > eps_threshold:\n",
    "        with torch.no_grad():\n",
    "            return policy_net(state).max(1).indices.view(1, 1)\n",
    "    else:\n",
    "        return torch.tensor([[env.action_space.sample()]], device=device, dtype=torch.long)"
   ]
  },
  {
   "cell_type": "code",
   "execution_count": 7,
   "id": "281ad5b1ab28611d",
   "metadata": {
    "ExecuteTime": {
     "end_time": "2024-05-14T09:46:32.343750Z",
     "start_time": "2024-05-14T09:46:32.338854Z"
    }
   },
   "outputs": [],
   "source": [
    "def optimize_model():\n",
    "    if len(memory) < BATCH_SIZE:\n",
    "        return\n",
    "    transitions = memory.sample(BATCH_SIZE)\n",
    "    batch = Transition(*zip(*transitions))\n",
    "    \n",
    "    non_final_mask = torch.tensor(tuple(map(lambda s: s is not None, batch.next_state)), device=device, dtype=torch.bool)\n",
    "    non_final_next_states = torch.cat([s for s in batch.next_state if s is not None])\n",
    "    \n",
    "    state_batch = torch.cat(batch.state)\n",
    "    action_batch = torch.cat(batch.action)\n",
    "    reward_batch = torch.cat(batch.reward)\n",
    "    \n",
    "    state_action_values = policy_net(state_batch).gather(1, action_batch)\n",
    "    \n",
    "    next_state_values = torch.zeros(BATCH_SIZE, device=device)\n",
    "    with torch.no_grad():\n",
    "        next_state_values[non_final_mask] = target_net(non_final_next_states).max(1)[0]\n",
    "        \n",
    "    expected_state_action_values = (next_state_values * GAMMA) + reward_batch\n",
    "    \n",
    "    criterion = nn.SmoothL1Loss()\n",
    "    loss = criterion(state_action_values, expected_state_action_values.unsqueeze(1))\n",
    "    \n",
    "    optimizer.zero_grad()\n",
    "    loss.backward()\n",
    "    nn.utils.clip_grad_value_(policy_net.parameters(), 100)\n",
    "    optimizer.step()\n",
    "\n",
    "    return loss.item()"
   ]
  },
  {
   "cell_type": "code",
   "execution_count": 8,
   "id": "9f877e7a2cad004",
   "metadata": {},
   "outputs": [
    {
     "data": {
      "application/vnd.jupyter.widget-view+json": {
       "model_id": "f8c4a1164e6349daba59f20367e2c097",
       "version_major": 2,
       "version_minor": 0
      },
      "text/plain": [
       "  0%|          | 0/600 [00:00<?, ?it/s]"
      ]
     },
     "metadata": {},
     "output_type": "display_data"
    }
   ],
   "source": [
    "try:\n",
    "    for i_episode in tqdm(range(NUM_EPISODES)):\n",
    "        state, info = env.reset()\n",
    "        state = torch.tensor(state, device=device, dtype=torch.float).unsqueeze(0)\n",
    "        \n",
    "        sum_reward = 0\n",
    "\n",
    "        for t in count():\n",
    "            action = select_action(state)\n",
    "            observation, reward, terminated, truncated, _ = env.step(action.item())\n",
    "            sum_reward += reward\n",
    "            reward = torch.tensor(reward, device=device).unsqueeze(0)\n",
    "            done = terminated or truncated\n",
    "            \n",
    "            if terminated:\n",
    "                next_state = None\n",
    "            else:\n",
    "                next_state = torch.tensor(observation, device=device, dtype=torch.float).unsqueeze(0)\n",
    "            \n",
    "            memory.push(state, action, next_state, reward)\n",
    "            \n",
    "            state = next_state\n",
    "            \n",
    "            loss = optimize_model()\n",
    "            \n",
    "            target_net_state_dict = target_net.state_dict()\n",
    "            policy_net_state_dict = policy_net.state_dict()\n",
    "            for key in target_net_state_dict:\n",
    "                target_net_state_dict[key] = TAU * policy_net_state_dict[key] + (1 - TAU) * target_net_state_dict[key]\n",
    "            target_net.load_state_dict(target_net_state_dict)\n",
    "            \n",
    "            if i_episode % SAVE_FREQ == 0:\n",
    "                os.makedirs(f'models/dqn/{game_name}', exist_ok=True)\n",
    "                torch.save(policy_net.state_dict(), f'models/dqn/{game_name}/{i_episode}.pt')\n",
    "\n",
    "            if done:\n",
    "                os.makedirs(f'logs/dqn/{game_name}', exist_ok=True)\n",
    "                with open(f'logs/dqn/{game_name}/episode_return.txt', 'a') as f:\n",
    "                    f.write(f'{sum_reward} {i_episode}\\n')\n",
    "\n",
    "                if loss:\n",
    "                    with open(f'logs/dqn/{game_name}/training_loss.txt', 'a') as f:\n",
    "                        f.write(f'{loss} {i_episode}\\n')\n",
    "                break\n",
    "except KeyboardInterrupt:\n",
    "    pass"
   ]
  },
  {
   "cell_type": "markdown",
   "id": "c25d2f69",
   "metadata": {},
   "source": [
    "### 4 min training"
   ]
  },
  {
   "cell_type": "code",
   "execution_count": 12,
   "id": "8064db2c",
   "metadata": {},
   "outputs": [
    {
     "name": "stdout",
     "output_type": "stream",
     "text": [
      "286.0\n"
     ]
    }
   ],
   "source": [
    "env = gym.make(game_name, render_mode='human')\n",
    "obs, _ = env.reset()\n",
    "state = torch.tensor(obs, device=device, dtype=torch.float).unsqueeze(0)\n",
    "done = False\n",
    "total_reward = 0\n",
    "while not done:\n",
    "    with torch.no_grad():\n",
    "        action = select_action(state)\n",
    "    obs, reward, terminated, truncated, _, = env.step(action.item())\n",
    "    state = torch.tensor(obs, device=device, dtype=torch.float).unsqueeze(0)\n",
    "    done = terminated or truncated\n",
    "    total_reward += reward\n",
    "env.close()\n",
    "print(total_reward)"
   ]
  },
  {
   "cell_type": "code",
   "execution_count": 9,
   "id": "6b74fd82",
   "metadata": {},
   "outputs": [],
   "source": [
    "# torch.save({\n",
    "#     'policy_net_state_dict': policy_net.state_dict(),\n",
    "#     'target_net_state_dict': target_net.state_dict(),\n",
    "#     'optimizer_state_dict': optimizer.state_dict()\n",
    "# }, 'dqn_checkpoint.tar')"
   ]
  }
 ],
 "metadata": {
  "kernelspec": {
   "display_name": "Python 3",
   "language": "python",
   "name": "python3"
  },
  "language_info": {
   "codemirror_mode": {
    "name": "ipython",
    "version": 3
   },
   "file_extension": ".py",
   "mimetype": "text/x-python",
   "name": "python",
   "nbconvert_exporter": "python",
   "pygments_lexer": "ipython3",
   "version": "3.1.-1"
  }
 },
 "nbformat": 4,
 "nbformat_minor": 5
}
